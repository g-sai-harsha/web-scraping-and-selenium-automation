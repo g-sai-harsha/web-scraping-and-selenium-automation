{
 "cells": [
  {
   "cell_type": "markdown",
   "id": "3f7d6e3d",
   "metadata": {},
   "source": [
    "# IMPORTS"
   ]
  },
  {
   "cell_type": "code",
   "execution_count": 1,
   "id": "d4727537",
   "metadata": {},
   "outputs": [
    {
     "data": {
      "text/plain": [
       "'import undetected_chromedriver as uc\\nfrom selenium.webdriver.common.by import By\\n#from selenium.webdriver.support import expected_conditions as EC\\nfrom selenium.webdriver.support.ui import Select\\nfrom time import sleep'"
      ]
     },
     "execution_count": 1,
     "metadata": {},
     "output_type": "execute_result"
    }
   ],
   "source": [
    "import undetected_chromedriver as uc\n",
    "from selenium.webdriver.common.by import By\n",
    "#from selenium.webdriver.support import expected_conditions as EC\n",
    "from selenium.webdriver.support.ui import Select\n",
    "from time import sleep"
   ]
  },
  {
   "cell_type": "markdown",
   "id": "e2042442",
   "metadata": {},
   "source": [
    "# OPEN MS EDGE WINDOW"
   ]
  },
  {
   "cell_type": "code",
   "execution_count": 2,
   "id": "5154b8da",
   "metadata": {},
   "outputs": [
    {
     "name": "stderr",
     "output_type": "stream",
     "text": [
      "C:\\Users\\SAIHAR~1.COR\\AppData\\Local\\Temp/ipykernel_20444/974931737.py:3: DeprecationWarning: executable_path has been deprecated, please pass in a Service object\n",
      "  driver  = webdriver.Edge(executable_path=r\"C:\\Users\\Saiharsha.G.CORPBRISTLECONE\\OneDrive - Mahindra & Mahindra Ltd.-55241918-Bristlecone India Pvt Ltd\\New folder\\New folder\\selenium web driver\\msedgedriver.exe\")\n"
     ]
    }
   ],
   "source": [
    "import math\n",
    "from selenium import webdriver \n",
    "driver  = webdriver.Edge(executable_path=r\"C:\\Users\\Saiharsha.G.CORPBRISTLECONE\\OneDrive - Mahindra & Mahindra Ltd.-55241918-Bristlecone India Pvt Ltd\\New folder\\New folder\\selenium web driver\\msedgedriver.exe\")"
   ]
  },
  {
   "cell_type": "markdown",
   "id": "3529a695",
   "metadata": {},
   "source": [
    "# OPENING LINKS\n"
   ]
  },
  {
   "cell_type": "code",
   "execution_count": 3,
   "id": "5d316438",
   "metadata": {},
   "outputs": [
    {
     "name": "stdout",
     "output_type": "stream",
     "text": [
      "first_tab_handle : CDwindow-6717F43A68EAA80FC37AE65ABC9F1DDE\n",
      "['CDwindow-6717F43A68EAA80FC37AE65ABC9F1DDE', 'CDwindow-8018638807DC79650794DD65C9C4066E']\n",
      "first_tab_handle : CDwindow-6717F43A68EAA80FC37AE65ABC9F1DDE\n",
      "['CDwindow-6717F43A68EAA80FC37AE65ABC9F1DDE', 'CDwindow-8018638807DC79650794DD65C9C4066E', 'CDwindow-94070B2D39638299A35EF9BC62FE2F2F']\n",
      "first_tab_handle : CDwindow-6717F43A68EAA80FC37AE65ABC9F1DDE\n",
      "['CDwindow-6717F43A68EAA80FC37AE65ABC9F1DDE', 'CDwindow-8018638807DC79650794DD65C9C4066E', 'CDwindow-94070B2D39638299A35EF9BC62FE2F2F', 'CDwindow-2D55EC559D763E22DFB14F585A899374']\n",
      "first_tab_handle : CDwindow-6717F43A68EAA80FC37AE65ABC9F1DDE\n",
      "['CDwindow-6717F43A68EAA80FC37AE65ABC9F1DDE', 'CDwindow-8018638807DC79650794DD65C9C4066E', 'CDwindow-94070B2D39638299A35EF9BC62FE2F2F', 'CDwindow-2D55EC559D763E22DFB14F585A899374', 'CDwindow-88A94CBC1B7F71F7756EEFF3D3AA2F70']\n"
     ]
    }
   ],
   "source": [
    "\n",
    "def web_links(*links):\n",
    "    for i in links:\n",
    "        control_string = \"window.open('{0}')\".format(i)\n",
    "        driver.execute_script(control_string)\n",
    "        driver.maximize_window()\n",
    "        first_tab_handle = driver.current_window_handle\n",
    "    driver.switch_to.window(driver.window_handles[1]) # tab navigation\n",
    "link1=\"https://www.moneycontrol.com/markets/indian-indices/top-nse-50-companies-list/9?classic=true&categoryId=1&exType=N\"\n",
    "link2=\"https://www.facebook.com/\"\n",
    "link3=\"https://www.amazon.in/s?k=-amazon&hvadid=72499124504037&hvbmt=be&hvdev=c&hvqmt=e&tag=msndeskstdin-21&ref=pd_sl_5fksc5jb1x_e\",\"https://www.rottentomatoes.com/\"\n",
    "web_links(link1,link2,link3)"
   ]
  },
  {
   "cell_type": "markdown",
   "id": "2aaa3804",
   "metadata": {},
   "source": [
    "# SCRAPING NIFTY VALUE"
   ]
  },
  {
   "cell_type": "code",
   "execution_count": 4,
   "id": "d58df080",
   "metadata": {},
   "outputs": [],
   "source": [
    "import requests\n",
    "from bs4 import BeautifulSoup\n",
    "web = \"https://www.moneycontrol.com/markets/indian-indices/top-nse-50-companies-list/9?classic=true&categoryId=1&exType=N\"\n",
    "margin_number=300\n",
    "response = requests.get(web)\n",
    "if response.status_code == 200 :\n",
    "    html = response.content\n",
    "    soup = BeautifulSoup(html, \"html.parser\")\n",
    "    #ltp_inNSX\n",
    "    nifty_value = soup.find('strong',{'id':\"ltp_inNSX\"}).text.replace(\",\",'')\n",
    "    nifty_value = float(nifty_value)\n",
    "    rounded_nifty_value = round(nifty_value, -2)\n",
    "    upper_bound = rounded_nifty_value+margin_number\n",
    "    lower_bound = rounded_nifty_value-margin_number"
   ]
  },
  {
   "cell_type": "code",
   "execution_count": 7,
   "id": "8d3ff9b6",
   "metadata": {},
   "outputs": [
    {
     "data": {
      "text/plain": [
       "'\\nlogin_button= web.find_element(\"xpath\",\\'//*[@id=\"root\"]/div/main/div[1]/div/div[2]/div/div/div/div/div/div/div/div/div/button\\')\\nlogin_button.click()\\nweb.implicitly_wait(5)'"
      ]
     },
     "execution_count": 7,
     "metadata": {},
     "output_type": "execute_result"
    }
   ],
   "source": [
    "mail_id=\"\"\n",
    "password=\"\"\n",
    "\n",
    "driver.get(\"https://tradingtick.com/options/callvsput\")\n",
    "sleep(3)\n",
    "\n",
    "signin=driver.find_element(By.XPATH,'//*[@id=\"__next\"]/main/div/div/div[2]/div[2]/div/div[2]/div/div/div/div/div/button')\n",
    "signin.click()\n",
    "sleep(3)\n",
    "google_signin=driver.find_element(By.XPATH,'//*[@id=\"__next\"]/main/div/div/div[2]/div[2]/div/div[2]/div/div/div/div/div/button')\n",
    "google_signin.click()\n",
    "sleep(3)\n",
    "\n",
    "# email id\n",
    "driver.find_element(By.XPATH, '//*[@id=\"identifierId\"]').send_keys(mail_id)\n",
    "next1 = driver.find_element(By.XPATH , '//*[@id=\"identifierNext\"]/div/button/span')\n",
    "next1.click()\n",
    "\n",
    "sleep(3)\n",
    "\n",
    "# password\n",
    "driver.find_element(By.XPATH, '//*[@id=\"password\"]/div[1]/div/div[1]/input').send_keys(password)\n",
    "next2 = driver.find_element(By.XPATH, '//*[@id=\"passwordNext\"]/div/button/span')\n",
    "next2.click()\n",
    "\n",
    "sleep(3)\n",
    "\n",
    "#options dropdown values\n",
    "options = driver.find_element(By.XPATH, '//*[@id=\"__next\"]/main/div/div/div[1]/div/ul/li[2]/a/div')\n",
    "options.click()\n",
    "sleep(2)\n",
    "callvsput = driver.find_element(By.XPATH, '//*[@id=\"__next\"]/main/div/div/div[1]/div/ul/li[2]/ul/li[4]')\n",
    "callvsput.click()\n",
    "sleep(3)\n",
    "\n",
    "#changing dropdown values\n",
    "symbol_drp = Select(driver.find_element(By.XPATH,'//*[@id=\"__next\"]/main/div/div/div[2]/div[2]/div/div[1]/div[2]/div/div/div/div[2]/select'))\n",
    "symbol_drp.select_by_value(\"DIFF\")\n",
    "\n",
    "range_start = Select(driver.find_element(By.XPATH,'//*[@id=\"__next\"]/main/div/div/div[2]/div[2]/div/div[1]/div[2]/div/div/div/div[3]/select'))\n",
    "range_start.select_by_value(\"{0}\".format(lower_bound))\n",
    "\n",
    "range_end = Select(driver.find_element(By.XPATH,'//*[@id=\"__next\"]/main/div/div/div[2]/div[2]/div/div[1]/div[2]/div/div/div/div[4]/select'))\n",
    "range_end.select_by_value(\"{0}\".format(upper_bound))\n",
    "sleep(99999)"
   ]
  }
 ],
 "metadata": {
  "kernelspec": {
   "display_name": "Python 3 (ipykernel)",
   "language": "python",
   "name": "python3"
  },
  "language_info": {
   "codemirror_mode": {
    "name": "ipython",
    "version": 3
   },
   "file_extension": ".py",
   "mimetype": "text/x-python",
   "name": "python",
   "nbconvert_exporter": "python",
   "pygments_lexer": "ipython3",
   "version": "3.9.7"
  }
 },
 "nbformat": 4,
 "nbformat_minor": 5
}
